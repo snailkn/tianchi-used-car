{
 "cells": [
  {
   "cell_type": "code",
   "execution_count": 41,
   "metadata": {},
   "outputs": [],
   "source": [
    "import numpy as np\n",
    "import pandas as pd\n",
    "\n",
    "from category_encoders import LeaveOneOutEncoder\n",
    "\n",
    "import matplotlib.pyplot as plt\n",
    "import seaborn as sns\n",
    "from matplotlib.font_manager import _rebuild\n",
    "_rebuild()\n",
    "plt.rcParams['font.family']=['Microsoft YaHei'] #用来正常显示中文标签\n",
    "plt.rcParams['axes.unicode_minus']=False  # 用于正常显示负号\n",
    "\n",
    "from statsmodels.stats.multitest import multipletests\n",
    "\n",
    "from utilitis.feature_manager import FeatureManager\n",
    "\n",
    "%load_ext autoreload\n",
    "%autoreload 2"
   ]
  },
  {
   "cell_type": "markdown",
   "metadata": {},
   "source": [
    "## 导入数据"
   ]
  },
  {
   "cell_type": "code",
   "execution_count": 3,
   "metadata": {},
   "outputs": [],
   "source": [
    "def date_parser(x):\n",
    "    try:\n",
    "        return pd.datetime.strptime(x, \"%Y%m%d\")\n",
    "    except:\n",
    "        return np.nan"
   ]
  },
  {
   "cell_type": "code",
   "execution_count": 4,
   "metadata": {},
   "outputs": [
    {
     "name": "stdout",
     "output_type": "stream",
     "text": [
      "(150000, 31)\n"
     ]
    },
    {
     "data": {
      "text/html": [
       "<div>\n",
       "<style scoped>\n",
       "    .dataframe tbody tr th:only-of-type {\n",
       "        vertical-align: middle;\n",
       "    }\n",
       "\n",
       "    .dataframe tbody tr th {\n",
       "        vertical-align: top;\n",
       "    }\n",
       "\n",
       "    .dataframe thead th {\n",
       "        text-align: right;\n",
       "    }\n",
       "</style>\n",
       "<table border=\"1\" class=\"dataframe\">\n",
       "  <thead>\n",
       "    <tr style=\"text-align: right;\">\n",
       "      <th></th>\n",
       "      <th>SaleID</th>\n",
       "      <th>name</th>\n",
       "      <th>regDate</th>\n",
       "      <th>model</th>\n",
       "      <th>brand</th>\n",
       "      <th>bodyType</th>\n",
       "      <th>fuelType</th>\n",
       "      <th>gearbox</th>\n",
       "      <th>power</th>\n",
       "      <th>kilometer</th>\n",
       "      <th>...</th>\n",
       "      <th>v_6</th>\n",
       "      <th>v_7</th>\n",
       "      <th>v_8</th>\n",
       "      <th>v_9</th>\n",
       "      <th>v_10</th>\n",
       "      <th>v_11</th>\n",
       "      <th>v_12</th>\n",
       "      <th>v_13</th>\n",
       "      <th>v_14</th>\n",
       "      <th>logPrice</th>\n",
       "    </tr>\n",
       "  </thead>\n",
       "  <tbody>\n",
       "    <tr>\n",
       "      <th>0</th>\n",
       "      <td>0</td>\n",
       "      <td>736</td>\n",
       "      <td>2004-04-02</td>\n",
       "      <td>30.0</td>\n",
       "      <td>6</td>\n",
       "      <td>1.0</td>\n",
       "      <td>0.0</td>\n",
       "      <td>0.0</td>\n",
       "      <td>60</td>\n",
       "      <td>12.5</td>\n",
       "      <td>...</td>\n",
       "      <td>0.101988</td>\n",
       "      <td>0.129549</td>\n",
       "      <td>0.022816</td>\n",
       "      <td>0.097462</td>\n",
       "      <td>-2.881803</td>\n",
       "      <td>2.804097</td>\n",
       "      <td>-2.420821</td>\n",
       "      <td>0.795292</td>\n",
       "      <td>0.914762</td>\n",
       "      <td>7.522941</td>\n",
       "    </tr>\n",
       "    <tr>\n",
       "      <th>1</th>\n",
       "      <td>1</td>\n",
       "      <td>2262</td>\n",
       "      <td>2003-03-01</td>\n",
       "      <td>40.0</td>\n",
       "      <td>1</td>\n",
       "      <td>2.0</td>\n",
       "      <td>0.0</td>\n",
       "      <td>0.0</td>\n",
       "      <td>0</td>\n",
       "      <td>15.0</td>\n",
       "      <td>...</td>\n",
       "      <td>0.121004</td>\n",
       "      <td>0.135731</td>\n",
       "      <td>0.026597</td>\n",
       "      <td>0.020582</td>\n",
       "      <td>-4.900482</td>\n",
       "      <td>2.096338</td>\n",
       "      <td>-1.030483</td>\n",
       "      <td>-1.722674</td>\n",
       "      <td>0.245522</td>\n",
       "      <td>8.188689</td>\n",
       "    </tr>\n",
       "    <tr>\n",
       "      <th>2</th>\n",
       "      <td>2</td>\n",
       "      <td>14874</td>\n",
       "      <td>2004-04-03</td>\n",
       "      <td>115.0</td>\n",
       "      <td>15</td>\n",
       "      <td>1.0</td>\n",
       "      <td>0.0</td>\n",
       "      <td>0.0</td>\n",
       "      <td>163</td>\n",
       "      <td>12.5</td>\n",
       "      <td>...</td>\n",
       "      <td>0.114912</td>\n",
       "      <td>0.165147</td>\n",
       "      <td>0.062173</td>\n",
       "      <td>0.027075</td>\n",
       "      <td>-4.846749</td>\n",
       "      <td>1.803559</td>\n",
       "      <td>1.565330</td>\n",
       "      <td>-0.832687</td>\n",
       "      <td>-0.229963</td>\n",
       "      <td>8.735847</td>\n",
       "    </tr>\n",
       "  </tbody>\n",
       "</table>\n",
       "<p>3 rows × 32 columns</p>\n",
       "</div>"
      ],
      "text/plain": [
       "   SaleID   name    regDate  model  brand  bodyType  fuelType  gearbox  power  \\\n",
       "0       0    736 2004-04-02   30.0      6       1.0       0.0      0.0     60   \n",
       "1       1   2262 2003-03-01   40.0      1       2.0       0.0      0.0      0   \n",
       "2       2  14874 2004-04-03  115.0     15       1.0       0.0      0.0    163   \n",
       "\n",
       "   kilometer  ...       v_6       v_7       v_8       v_9      v_10      v_11  \\\n",
       "0       12.5  ...  0.101988  0.129549  0.022816  0.097462 -2.881803  2.804097   \n",
       "1       15.0  ...  0.121004  0.135731  0.026597  0.020582 -4.900482  2.096338   \n",
       "2       12.5  ...  0.114912  0.165147  0.062173  0.027075 -4.846749  1.803559   \n",
       "\n",
       "       v_12      v_13      v_14  logPrice  \n",
       "0 -2.420821  0.795292  0.914762  7.522941  \n",
       "1 -1.030483 -1.722674  0.245522  8.188689  \n",
       "2  1.565330 -0.832687 -0.229963  8.735847  \n",
       "\n",
       "[3 rows x 32 columns]"
      ]
     },
     "execution_count": 4,
     "metadata": {},
     "output_type": "execute_result"
    }
   ],
   "source": [
    "df = pd.read_csv('data/used_car_train_20200313.csv', sep=' ', parse_dates=['regDate', 'creatDate'], date_parser=date_parser)\n",
    "print(df.shape)\n",
    "df['logPrice'] = np.log(df['price'])\n",
    "df.head(3)"
   ]
  },
  {
   "cell_type": "markdown",
   "metadata": {},
   "source": [
    "## 分类变量\n",
    "\n",
    "变量`model`为`车型编码`，为高基类的分类型变量，从下列统计信息可以看出，count > 2000的类别只有19个\n",
    "\n",
    "*图为各分类计数的累计和图，可以看出count值超过2000的类别其实非常少*"
   ]
  },
  {
   "cell_type": "code",
   "execution_count": 5,
   "metadata": {},
   "outputs": [
    {
     "name": "stdout",
     "output_type": "stream",
     "text": [
      "cate counts 248\n",
      "cate count > 2000:  19\n"
     ]
    },
    {
     "data": {
      "text/plain": [
       "<matplotlib.axes._subplots.AxesSubplot at 0x7f954b491668>"
      ]
     },
     "execution_count": 5,
     "metadata": {},
     "output_type": "execute_result"
    },
    {
     "data": {
      "image/png": "[encoded data removed]",
      "text/plain": [
       "<Figure size 432x288 with 1 Axes>"
      ]
     },
     "metadata": {
      "needs_background": "light"
     },
     "output_type": "display_data"
    }
   ],
   "source": [
    "print('cate counts', len(df.model.value_counts()))\n",
    "print('cate count > 2000: ', sum(df.model.value_counts() > 2000))\n",
    "np.cumsum(df.model.value_counts().value_counts().sort_index()).plot()"
   ]
  },
  {
   "cell_type": "markdown",
   "metadata": {},
   "source": [
    "再看一下计数 < 2000 和 > 2000的数据结局是否有明显差异"
   ]
  },
  {
   "cell_type": "code",
   "execution_count": 7,
   "metadata": {},
   "outputs": [
    {
     "data": {
      "text/plain": [
       "<matplotlib.axes._subplots.AxesSubplot at 0x7f954b2763c8>"
      ]
     },
     "execution_count": 7,
     "metadata": {},
     "output_type": "execute_result"
    },
    {
     "data": {
      "image/png": "[encoded data removed]",
      "text/plain": [
       "<Figure size 360x360 with 1 Axes>"
      ]
     },
     "metadata": {
      "needs_background": "light"
     },
     "output_type": "display_data"
    }
   ],
   "source": [
    "cut_off = 50\n",
    "feat = df['regionCode']\n",
    "cat_sparse = feat.value_counts()[feat.value_counts() < cut_off].index\n",
    "f, ax = plt.subplots(1, 1, figsize=(5, 5))\n",
    "sns.distplot(df[feat.isin(cat_sparse)]['logPrice'], hist=True, ax=ax)\n",
    "sns.distplot(df[~feat.isin(cat_sparse)]['logPrice'], hist=True, ax=ax)"
   ]
  },
  {
   "cell_type": "markdown",
   "metadata": {},
   "source": [
    "根据以上分析，稍后准备数据集时，我们可以把计数大于2000的类别做一个onehot，同时再新增一个target encoding\n",
    "\n",
    "变量`'brand', 'bodyType', 'fuelType'`为分类型变量，且类别基数较小，可以直接onehot处理\n",
    "\n",
    "变量`'regionCode'`是地区代码，但已经经过脱敏，"
   ]
  },
  {
   "cell_type": "code",
   "execution_count": 26,
   "metadata": {},
   "outputs": [
    {
     "data": {
      "text/plain": [
       "419     369\n",
       "764     258\n",
       "125     137\n",
       "176     136\n",
       "462     134\n",
       "       ... \n",
       "6414      1\n",
       "7063      1\n",
       "4239      1\n",
       "5931      1\n",
       "7267      1\n",
       "Name: regionCode, Length: 7905, dtype: int64"
      ]
     },
     "execution_count": 26,
     "metadata": {},
     "output_type": "execute_result"
    }
   ],
   "source": [
    "df['regionCode'].value_counts()#.plot(kind='hist', bins=20)"
   ]
  },
  {
   "cell_type": "code",
   "execution_count": 25,
   "metadata": {},
   "outputs": [
    {
     "data": {
      "text/plain": [
       "<matplotlib.axes._subplots.AxesSubplot at 0x7f5090d0c780>"
      ]
     },
     "execution_count": 25,
     "metadata": {},
     "output_type": "execute_result"
    },
    {
     "data": {
      "image/png": "[encoded data removed]",
      "text/plain": [
       "<Figure size 432x288 with 1 Axes>"
      ]
     },
     "metadata": {
      "needs_background": "light"
     },
     "output_type": "display_data"
    }
   ],
   "source": [
    "np.cumsum(df.regionCode.value_counts().value_counts().sort_index()).plot()"
   ]
  },
  {
   "cell_type": "code",
   "execution_count": 27,
   "metadata": {},
   "outputs": [
    {
     "data": {
      "text/plain": [
       "649"
      ]
     },
     "execution_count": 27,
     "metadata": {},
     "output_type": "execute_result"
    }
   ],
   "source": [
    "sum(df['regionCode'].value_counts() > 50)"
   ]
  },
  {
   "cell_type": "markdown",
   "metadata": {},
   "source": [
    "通过设置计数阈值的方法无法有效缩减分类数量，直接用target encoding处理\n",
    "\n",
    "## 数值变量\n",
    "\n",
    "第一个变量是`power`，范围应该在0-600，从统计结果来看有离群点，把>600的处理为空"
   ]
  },
  {
   "cell_type": "code",
   "execution_count": 16,
   "metadata": {},
   "outputs": [
    {
     "name": "stderr",
     "output_type": "stream",
     "text": [
      "/opt/tljh/user/lib/python3.6/site-packages/pandas/core/indexing.py:205: SettingWithCopyWarning: \n",
      "A value is trying to be set on a copy of a slice from a DataFrame\n",
      "\n",
      "See the caveats in the documentation: http://pandas.pydata.org/pandas-docs/stable/user_guide/indexing.html#returning-a-view-versus-a-copy\n",
      "  self._setitem_with_indexer(indexer, value)\n"
     ]
    },
    {
     "data": {
      "text/plain": [
       "<matplotlib.axes._subplots.AxesSubplot at 0x7f9543df25c0>"
      ]
     },
     "execution_count": 16,
     "metadata": {},
     "output_type": "execute_result"
    },
    {
     "data": {
      "image/png": "[encoded data removed]",
      "text/plain": [
       "<Figure size 720x360 with 2 Axes>"
      ]
     },
     "metadata": {
      "needs_background": "light"
     },
     "output_type": "display_data"
    }
   ],
   "source": [
    "power = df['power']\n",
    "power.loc[power > 600] = np.nan\n",
    "_, axes = plt.subplots(1, 2, figsize=(10, 5))\n",
    "sns.boxplot(power, ax=axes[0])\n",
    "sns.distplot(power.dropna(), hist=True, ax=axes[1])"
   ]
  },
  {
   "cell_type": "markdown",
   "metadata": {},
   "source": [
    "分布呈长尾且有部分数据集中为0，取log并把0值替换为nan"
   ]
  },
  {
   "cell_type": "code",
   "execution_count": 21,
   "metadata": {},
   "outputs": [
    {
     "data": {
      "text/plain": [
       "15.0    96877\n",
       "12.5    15722\n",
       "10.0     6459\n",
       "9.0      5257\n",
       "8.0      4573\n",
       "7.0      4084\n",
       "6.0      3725\n",
       "5.0      3144\n",
       "4.0      2718\n",
       "3.0      2501\n",
       "2.0      2354\n",
       "0.5      1840\n",
       "1.0       746\n",
       "Name: kilometer, dtype: int64"
      ]
     },
     "execution_count": 21,
     "metadata": {},
     "output_type": "execute_result"
    }
   ],
   "source": [
    "df['kilometer'].value_counts()"
   ]
  },
  {
   "cell_type": "markdown",
   "metadata": {},
   "source": [
    "`kilometer`实际是rank类型，暂时不做处理\n",
    "\n",
    "变量`v5`、`v6`存在离群的0点，替换为nan\n",
    "\n",
    "变量`v7`存在离群点，删掉 >0.5的数据，同理`v11`删除 >10数据，`v13`、`v14`删除 >7.5的数据\n",
    "\n",
    "变量`v10`存在明显的3峰，尝试拆分为3个变量 ((,0], \\[0, 6), (8,))"
   ]
  },
  {
   "cell_type": "code",
   "execution_count": null,
   "metadata": {},
   "outputs": [],
   "source": []
  },
  {
   "cell_type": "code",
   "execution_count": 48,
   "metadata": {},
   "outputs": [],
   "source": [
    "class MineFeatureManager(FeatureManager):\n",
    "    def __init__(self, num_config=None, categorical_config=None):\n",
    "        self.num_features = [\n",
    "            'power', 'kilometer', 'v_3', 'v_4', 'v_5', 'v_6', 'v_7', 'v_8', 'v_9', 'v_11', \n",
    "            'v_12', 'v_13', 'v_14', 'carAge', 'v_10_1', 'v_10_2', 'v_10_3', 'modelEncode', \n",
    "            'regionCodeEncode', 'gearbox', 'notRepairedDamage', 'seller', 'offerType'\n",
    "        ]\n",
    "        self.categorical_features = ['model', 'brand', 'bodyType', 'fuelType']\n",
    "        self.encoded_cates = ['model', 'regionCode']\n",
    "        self.cate_encoder = LeaveOneOutEncoder(cols=self.encoded_cates)\n",
    "        self.general_model = None\n",
    "        super().__init__(self.num_features, self.categorical_features, num_config, categorical_config)\n",
    "\n",
    "    def _feature_engien(self, features):\n",
    "        zero_na = {0: np.nan}\n",
    "        features = features.replace({'power': zero_na, 'v_5': zero_na, 'v_6': zero_na})\n",
    "        \n",
    "        features['carAge'] = (features['creatDate'] - features['regDate']).apply(lambda x: x.days)\n",
    "        features['notRepairedDamage'] = features['notRepairedDamage'].replace('-', np.nan).astype(float)\n",
    "        \n",
    "        features.loc[features['power'] > 600, 'power'] = np.nan\n",
    "        features['power'] = np.log(features['power'])\n",
    "        features.loc[features['v_7'] > 0.5, 'v_7'] = np.nan\n",
    "        features.loc[features['v_11'] > 10, 'v_11'] = np.nan\n",
    "        features.loc[features['v_13'] > 7.5, 'v_13'] = np.nan\n",
    "        features.loc[features['v_14'] > 7.5, 'v_14'] = np.nan\n",
    "        \n",
    "        features.loc[features['v_10'] <= 0, 'v_10_1'] = features.loc[features['v_10'] <= 0, 'v_10']\n",
    "        features.loc[(features['v_10'] >= 0) & (features['v_10'] < 6), 'v_10_2'] = features.loc[(features['v_10'] >= 0) & (features['v_10'] < 6), 'v_10']\n",
    "        features.loc[features['v_10'] > 8, 'v_10_3'] = features.loc[features['v_10'] > 8, 'v_10']\n",
    "        features.loc[~features['model'].isin(self.general_model), 'model'] = np.nan\n",
    "        return features\n",
    "    \n",
    "    def get_model_features(self, features):\n",
    "        features = features.copy()\n",
    "        self.general_model = df.model.value_counts()[df.model.value_counts() < 2000].index\n",
    "        encoded_cate = self.cate_encoder.fit_transform(features, features['logPrice'])\n",
    "        for cate in self.encoded_cates:\n",
    "            features[cate + 'Encode'] = encoded_cate[cate]\n",
    "        features = self._feature_engien(features)\n",
    "        return super().get_model_features(features)\n",
    "    \n",
    "    def transform_feature(self, features):\n",
    "        features = features.copy()\n",
    "        encoded_cate = self.cate_encoder.transform(features)\n",
    "        for cate in self.encoded_cates:\n",
    "            features[cate + 'Encode'] = encoded_cate[cate]\n",
    "        features = self._feature_engien(features)\n",
    "        return super().get_model_features(features)"
   ]
  },
  {
   "cell_type": "code",
   "execution_count": 50,
   "metadata": {},
   "outputs": [
    {
     "data": {
      "text/html": [
       "<div>\n",
       "<style scoped>\n",
       "    .dataframe tbody tr th:only-of-type {\n",
       "        vertical-align: middle;\n",
       "    }\n",
       "\n",
       "    .dataframe tbody tr th {\n",
       "        vertical-align: top;\n",
       "    }\n",
       "\n",
       "    .dataframe thead th {\n",
       "        text-align: right;\n",
       "    }\n",
       "</style>\n",
       "<table border=\"1\" class=\"dataframe\">\n",
       "  <thead>\n",
       "    <tr style=\"text-align: right;\">\n",
       "      <th></th>\n",
       "      <th>power</th>\n",
       "      <th>kilometer</th>\n",
       "      <th>v_3</th>\n",
       "      <th>v_4</th>\n",
       "      <th>v_5</th>\n",
       "      <th>v_6</th>\n",
       "      <th>v_7</th>\n",
       "      <th>v_8</th>\n",
       "      <th>v_9</th>\n",
       "      <th>v_11</th>\n",
       "      <th>...</th>\n",
       "      <th>modelEncode</th>\n",
       "      <th>regionCodeEncode</th>\n",
       "      <th>gearbox</th>\n",
       "      <th>notRepairedDamage</th>\n",
       "      <th>seller</th>\n",
       "      <th>offerType</th>\n",
       "      <th>model</th>\n",
       "      <th>brand</th>\n",
       "      <th>bodyType</th>\n",
       "      <th>fuelType</th>\n",
       "    </tr>\n",
       "  </thead>\n",
       "  <tbody>\n",
       "    <tr>\n",
       "      <th>0</th>\n",
       "      <td>4.094345</td>\n",
       "      <td>12.5</td>\n",
       "      <td>2.159744</td>\n",
       "      <td>1.143786</td>\n",
       "      <td>0.235676</td>\n",
       "      <td>0.101988</td>\n",
       "      <td>0.129549</td>\n",
       "      <td>0.022816</td>\n",
       "      <td>0.097462</td>\n",
       "      <td>2.804097</td>\n",
       "      <td>...</td>\n",
       "      <td>7.305540</td>\n",
       "      <td>8.482204</td>\n",
       "      <td>0.0</td>\n",
       "      <td>0.0</td>\n",
       "      <td>0</td>\n",
       "      <td>0</td>\n",
       "      <td>NaN</td>\n",
       "      <td>6</td>\n",
       "      <td>1.0</td>\n",
       "      <td>0.0</td>\n",
       "    </tr>\n",
       "    <tr>\n",
       "      <th>1</th>\n",
       "      <td>NaN</td>\n",
       "      <td>15.0</td>\n",
       "      <td>1.380657</td>\n",
       "      <td>-1.422165</td>\n",
       "      <td>0.264777</td>\n",
       "      <td>0.121004</td>\n",
       "      <td>0.135731</td>\n",
       "      <td>0.026597</td>\n",
       "      <td>0.020582</td>\n",
       "      <td>2.096338</td>\n",
       "      <td>...</td>\n",
       "      <td>8.364457</td>\n",
       "      <td>8.683351</td>\n",
       "      <td>0.0</td>\n",
       "      <td>NaN</td>\n",
       "      <td>0</td>\n",
       "      <td>0</td>\n",
       "      <td>NaN</td>\n",
       "      <td>1</td>\n",
       "      <td>2.0</td>\n",
       "      <td>0.0</td>\n",
       "    </tr>\n",
       "    <tr>\n",
       "      <th>2</th>\n",
       "      <td>5.093750</td>\n",
       "      <td>12.5</td>\n",
       "      <td>-0.998467</td>\n",
       "      <td>-0.996911</td>\n",
       "      <td>0.251410</td>\n",
       "      <td>0.114912</td>\n",
       "      <td>0.165147</td>\n",
       "      <td>0.062173</td>\n",
       "      <td>0.027075</td>\n",
       "      <td>1.803559</td>\n",
       "      <td>...</td>\n",
       "      <td>9.138945</td>\n",
       "      <td>8.077353</td>\n",
       "      <td>0.0</td>\n",
       "      <td>0.0</td>\n",
       "      <td>0</td>\n",
       "      <td>0</td>\n",
       "      <td>115.0</td>\n",
       "      <td>15</td>\n",
       "      <td>1.0</td>\n",
       "      <td>0.0</td>\n",
       "    </tr>\n",
       "    <tr>\n",
       "      <th>3</th>\n",
       "      <td>5.262690</td>\n",
       "      <td>15.0</td>\n",
       "      <td>0.883600</td>\n",
       "      <td>-2.228079</td>\n",
       "      <td>0.274293</td>\n",
       "      <td>0.110300</td>\n",
       "      <td>0.121964</td>\n",
       "      <td>0.033395</td>\n",
       "      <td>0.000000</td>\n",
       "      <td>1.285940</td>\n",
       "      <td>...</td>\n",
       "      <td>9.063679</td>\n",
       "      <td>8.030885</td>\n",
       "      <td>1.0</td>\n",
       "      <td>0.0</td>\n",
       "      <td>0</td>\n",
       "      <td>0</td>\n",
       "      <td>109.0</td>\n",
       "      <td>10</td>\n",
       "      <td>0.0</td>\n",
       "      <td>0.0</td>\n",
       "    </tr>\n",
       "    <tr>\n",
       "      <th>4</th>\n",
       "      <td>4.219508</td>\n",
       "      <td>5.0</td>\n",
       "      <td>-1.571239</td>\n",
       "      <td>2.246088</td>\n",
       "      <td>0.228036</td>\n",
       "      <td>0.073205</td>\n",
       "      <td>0.091880</td>\n",
       "      <td>0.078819</td>\n",
       "      <td>0.121534</td>\n",
       "      <td>0.910783</td>\n",
       "      <td>...</td>\n",
       "      <td>6.885260</td>\n",
       "      <td>9.389021</td>\n",
       "      <td>0.0</td>\n",
       "      <td>0.0</td>\n",
       "      <td>0</td>\n",
       "      <td>0</td>\n",
       "      <td>110.0</td>\n",
       "      <td>5</td>\n",
       "      <td>1.0</td>\n",
       "      <td>0.0</td>\n",
       "    </tr>\n",
       "    <tr>\n",
       "      <th>...</th>\n",
       "      <td>...</td>\n",
       "      <td>...</td>\n",
       "      <td>...</td>\n",
       "      <td>...</td>\n",
       "      <td>...</td>\n",
       "      <td>...</td>\n",
       "      <td>...</td>\n",
       "      <td>...</td>\n",
       "      <td>...</td>\n",
       "      <td>...</td>\n",
       "      <td>...</td>\n",
       "      <td>...</td>\n",
       "      <td>...</td>\n",
       "      <td>...</td>\n",
       "      <td>...</td>\n",
       "      <td>...</td>\n",
       "      <td>...</td>\n",
       "      <td>...</td>\n",
       "      <td>...</td>\n",
       "      <td>...</td>\n",
       "      <td>...</td>\n",
       "    </tr>\n",
       "    <tr>\n",
       "      <th>149995</th>\n",
       "      <td>5.093750</td>\n",
       "      <td>15.0</td>\n",
       "      <td>-0.736609</td>\n",
       "      <td>-1.505820</td>\n",
       "      <td>0.280264</td>\n",
       "      <td>0.000310</td>\n",
       "      <td>0.048441</td>\n",
       "      <td>0.071158</td>\n",
       "      <td>0.019174</td>\n",
       "      <td>-2.983973</td>\n",
       "      <td>...</td>\n",
       "      <td>8.566511</td>\n",
       "      <td>8.263583</td>\n",
       "      <td>1.0</td>\n",
       "      <td>0.0</td>\n",
       "      <td>0</td>\n",
       "      <td>0</td>\n",
       "      <td>121.0</td>\n",
       "      <td>10</td>\n",
       "      <td>4.0</td>\n",
       "      <td>0.0</td>\n",
       "    </tr>\n",
       "    <tr>\n",
       "      <th>149996</th>\n",
       "      <td>4.828314</td>\n",
       "      <td>10.0</td>\n",
       "      <td>-2.366699</td>\n",
       "      <td>0.698012</td>\n",
       "      <td>0.253217</td>\n",
       "      <td>0.000777</td>\n",
       "      <td>0.084079</td>\n",
       "      <td>0.099681</td>\n",
       "      <td>0.079371</td>\n",
       "      <td>-2.774615</td>\n",
       "      <td>...</td>\n",
       "      <td>8.716713</td>\n",
       "      <td>8.023668</td>\n",
       "      <td>0.0</td>\n",
       "      <td>0.0</td>\n",
       "      <td>0</td>\n",
       "      <td>0</td>\n",
       "      <td>116.0</td>\n",
       "      <td>11</td>\n",
       "      <td>0.0</td>\n",
       "      <td>0.0</td>\n",
       "    </tr>\n",
       "    <tr>\n",
       "      <th>149997</th>\n",
       "      <td>4.499810</td>\n",
       "      <td>6.0</td>\n",
       "      <td>-2.279091</td>\n",
       "      <td>1.423661</td>\n",
       "      <td>0.233353</td>\n",
       "      <td>0.000705</td>\n",
       "      <td>0.118872</td>\n",
       "      <td>0.100118</td>\n",
       "      <td>0.097914</td>\n",
       "      <td>-1.630677</td>\n",
       "      <td>...</td>\n",
       "      <td>7.781686</td>\n",
       "      <td>8.045319</td>\n",
       "      <td>0.0</td>\n",
       "      <td>0.0</td>\n",
       "      <td>0</td>\n",
       "      <td>0</td>\n",
       "      <td>60.0</td>\n",
       "      <td>11</td>\n",
       "      <td>1.0</td>\n",
       "      <td>1.0</td>\n",
       "    </tr>\n",
       "    <tr>\n",
       "      <th>149998</th>\n",
       "      <td>5.049856</td>\n",
       "      <td>15.0</td>\n",
       "      <td>-1.179812</td>\n",
       "      <td>0.620680</td>\n",
       "      <td>0.256369</td>\n",
       "      <td>0.000252</td>\n",
       "      <td>0.081479</td>\n",
       "      <td>0.083558</td>\n",
       "      <td>0.081498</td>\n",
       "      <td>-2.633719</td>\n",
       "      <td>...</td>\n",
       "      <td>8.523350</td>\n",
       "      <td>7.742092</td>\n",
       "      <td>0.0</td>\n",
       "      <td>0.0</td>\n",
       "      <td>0</td>\n",
       "      <td>0</td>\n",
       "      <td>34.0</td>\n",
       "      <td>10</td>\n",
       "      <td>3.0</td>\n",
       "      <td>1.0</td>\n",
       "    </tr>\n",
       "    <tr>\n",
       "      <th>149999</th>\n",
       "      <td>5.262690</td>\n",
       "      <td>12.5</td>\n",
       "      <td>-0.067144</td>\n",
       "      <td>-1.396166</td>\n",
       "      <td>0.284475</td>\n",
       "      <td>NaN</td>\n",
       "      <td>0.040072</td>\n",
       "      <td>0.062543</td>\n",
       "      <td>0.025819</td>\n",
       "      <td>-3.179913</td>\n",
       "      <td>...</td>\n",
       "      <td>8.018739</td>\n",
       "      <td>8.502688</td>\n",
       "      <td>1.0</td>\n",
       "      <td>0.0</td>\n",
       "      <td>0</td>\n",
       "      <td>0</td>\n",
       "      <td>NaN</td>\n",
       "      <td>28</td>\n",
       "      <td>6.0</td>\n",
       "      <td>0.0</td>\n",
       "    </tr>\n",
       "  </tbody>\n",
       "</table>\n",
       "<p>150000 rows × 27 columns</p>\n",
       "</div>"
      ],
      "text/plain": [
       "           power  kilometer       v_3       v_4       v_5       v_6       v_7  \\\n",
       "0       4.094345       12.5  2.159744  1.143786  0.235676  0.101988  0.129549   \n",
       "1            NaN       15.0  1.380657 -1.422165  0.264777  0.121004  0.135731   \n",
       "2       5.093750       12.5 -0.998467 -0.996911  0.251410  0.114912  0.165147   \n",
       "3       5.262690       15.0  0.883600 -2.228079  0.274293  0.110300  0.121964   \n",
       "4       4.219508        5.0 -1.571239  2.246088  0.228036  0.073205  0.091880   \n",
       "...          ...        ...       ...       ...       ...       ...       ...   \n",
       "149995  5.093750       15.0 -0.736609 -1.505820  0.280264  0.000310  0.048441   \n",
       "149996  4.828314       10.0 -2.366699  0.698012  0.253217  0.000777  0.084079   \n",
       "149997  4.499810        6.0 -2.279091  1.423661  0.233353  0.000705  0.118872   \n",
       "149998  5.049856       15.0 -1.179812  0.620680  0.256369  0.000252  0.081479   \n",
       "149999  5.262690       12.5 -0.067144 -1.396166  0.284475       NaN  0.040072   \n",
       "\n",
       "             v_8       v_9      v_11  ...  modelEncode  regionCodeEncode  \\\n",
       "0       0.022816  0.097462  2.804097  ...     7.305540          8.482204   \n",
       "1       0.026597  0.020582  2.096338  ...     8.364457          8.683351   \n",
       "2       0.062173  0.027075  1.803559  ...     9.138945          8.077353   \n",
       "3       0.033395  0.000000  1.285940  ...     9.063679          8.030885   \n",
       "4       0.078819  0.121534  0.910783  ...     6.885260          9.389021   \n",
       "...          ...       ...       ...  ...          ...               ...   \n",
       "149995  0.071158  0.019174 -2.983973  ...     8.566511          8.263583   \n",
       "149996  0.099681  0.079371 -2.774615  ...     8.716713          8.023668   \n",
       "149997  0.100118  0.097914 -1.630677  ...     7.781686          8.045319   \n",
       "149998  0.083558  0.081498 -2.633719  ...     8.523350          7.742092   \n",
       "149999  0.062543  0.025819 -3.179913  ...     8.018739          8.502688   \n",
       "\n",
       "        gearbox  notRepairedDamage  seller  offerType  model  brand  bodyType  \\\n",
       "0           0.0                0.0       0          0    NaN      6       1.0   \n",
       "1           0.0                NaN       0          0    NaN      1       2.0   \n",
       "2           0.0                0.0       0          0  115.0     15       1.0   \n",
       "3           1.0                0.0       0          0  109.0     10       0.0   \n",
       "4           0.0                0.0       0          0  110.0      5       1.0   \n",
       "...         ...                ...     ...        ...    ...    ...       ...   \n",
       "149995      1.0                0.0       0          0  121.0     10       4.0   \n",
       "149996      0.0                0.0       0          0  116.0     11       0.0   \n",
       "149997      0.0                0.0       0          0   60.0     11       1.0   \n",
       "149998      0.0                0.0       0          0   34.0     10       3.0   \n",
       "149999      1.0                0.0       0          0    NaN     28       6.0   \n",
       "\n",
       "        fuelType  \n",
       "0            0.0  \n",
       "1            0.0  \n",
       "2            0.0  \n",
       "3            0.0  \n",
       "4            0.0  \n",
       "...          ...  \n",
       "149995       0.0  \n",
       "149996       0.0  \n",
       "149997       1.0  \n",
       "149998       1.0  \n",
       "149999       0.0  \n",
       "\n",
       "[150000 rows x 27 columns]"
      ]
     },
     "execution_count": 50,
     "metadata": {},
     "output_type": "execute_result"
    }
   ],
   "source": [
    "manager = MineFeatureManager(num_config={'missing_indicator': False}, categorical_config={'missing_indicator': False})\n",
    "manager.get_model_features(df)"
   ]
  },
  {
   "cell_type": "code",
   "execution_count": null,
   "metadata": {},
   "outputs": [],
   "source": []
  }
 ],
 "metadata": {
  "kernelspec": {
   "display_name": "Python 3",
   "language": "python",
   "name": "python3"
  },
  "language_info": {
   "codemirror_mode": {
    "name": "ipython",
    "version": 3
   },
   "file_extension": ".py",
   "mimetype": "text/x-python",
   "name": "python",
   "nbconvert_exporter": "python",
   "pygments_lexer": "ipython3",
   "version": "3.6.7"
  }
 },
 "nbformat": 4,
 "nbformat_minor": 4
}
