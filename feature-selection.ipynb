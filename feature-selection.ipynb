{
 "cells": [
  {
   "cell_type": "code",
   "execution_count": 1,
   "metadata": {},
   "outputs": [],
   "source": [
    "import numpy as np\n",
    "import pandas as pd\n",
    "import logging\n",
    "import os\n",
    "\n",
    "from category_encoders import LeaveOneOutEncoder\n",
    "\n",
    "from sklearn.model_selection import KFold, ParameterSampler\n",
    "from sklearn.metrics import mean_absolute_error\n",
    "\n",
    "from utilitis.utils import date_parser\n",
    "from utilitis.feature_manager import FeatureManager\n",
    "from utilitis.model import LGBModel\n",
    "from utilitis.cate_embedding import CateEmbedding\n",
    "\n",
    "%load_ext autoreload\n",
    "%autoreload 2"
   ]
  },
  {
   "cell_type": "code",
   "execution_count": 2,
   "metadata": {},
   "outputs": [
    {
     "name": "stdout",
     "output_type": "stream",
     "text": [
      "(150000, 31)\n"
     ]
    }
   ],
   "source": [
    "df = pd.read_csv('data/used_car_train_20200313.csv', sep=' ', parse_dates=['regDate', 'creatDate'], date_parser=date_parser)\n",
    "print(df.shape)\n",
    "df['logPrice'] = np.log(df['price'])"
   ]
  },
  {
   "cell_type": "code",
   "execution_count": 3,
   "metadata": {},
   "outputs": [],
   "source": [
    "# test = pd.read_csv('data/used_car_testB_20200421.csv', sep=' ', parse_dates=['regDate', 'creatDate'], date_parser=date_parser)\n",
    "# print(test.shape)\n",
    "\n",
    "dev = df.iloc[:120000, :]\n",
    "test = df.iloc[120000:, :]"
   ]
  },
  {
   "cell_type": "code",
   "execution_count": null,
   "metadata": {},
   "outputs": [
    {
     "name": "stdout",
     "output_type": "stream",
     "text": [
      "name\n"
     ]
    }
   ],
   "source": [
    "ebd_targets = [\n",
    "    'power', 'kilometer', 'v_3', 'v_4', 'v_5', 'v_6', 'v_7', 'v_8', 'v_9', 'v_11', 'v_12', 'v_13', \n",
    "    'v_14', 'logPrice'\n",
    "]\n",
    "dev_ebd, test_ebd = [], []\n",
    "for feat in ['name', 'model', 'regionCode']:\n",
    "    print(feat)\n",
    "    encoder = CateEmbedding(dev[feat], dev[ebd_targets], threshold=50)\n",
    "    encoder.retrain(epoch_round=10)\n",
    "    dev_ebd.append(cate_embedding_encoder.transform(dev[feat]))\n",
    "    test_ebd.append(cate_embedding_encoder.transform(test[feat]))\n",
    "    del encoder"
   ]
  },
  {
   "cell_type": "code",
   "execution_count": null,
   "metadata": {},
   "outputs": [],
   "source": []
  },
  {
   "cell_type": "code",
   "execution_count": 5,
   "metadata": {},
   "outputs": [],
   "source": [
    "class MineFeatureManager(FeatureManager):\n",
    "    def __init__(self, num_config=None, categorical_config=None):\n",
    "        self.num_features = [\n",
    "            'power', 'kilometer', 'v_3', 'v_4', 'v_5', 'v_6', 'v_7', 'v_8', 'v_9', 'v_11', \n",
    "            'v_12', 'v_13', 'v_14', 'carAge', 'v_10_1', 'v_10_2', 'v_10_3', 'nameEncode', \n",
    "            'modelEncode', 'regionCodeEncode', 'gearbox', 'notRepairedDamage', 'seller', \n",
    "            'offerType'\n",
    "        ]\n",
    "        self.categorical_features = ['model', 'brand', 'bodyType', 'fuelType', 'createMon']\n",
    "        self.encoded_cates = ['name', 'model', 'regionCode']\n",
    "        self.cate_encoder = LeaveOneOutEncoder(cols=self.encoded_cates)\n",
    "        self.general_model = None\n",
    "        super().__init__(self.num_features, self.categorical_features, num_config, categorical_config)\n",
    "\n",
    "    def _feature_engien(self, features):\n",
    "        zero_na = {0: np.nan}\n",
    "        features = features.replace({'power': zero_na, 'v_5': zero_na, 'v_6': zero_na})\n",
    "        \n",
    "        features['carAge'] = (features['creatDate'] - features['regDate']).apply(lambda x: x.days)\n",
    "        features['createMon'] = features['creatDate'].dt.month\n",
    "        features['notRepairedDamage'] = features['notRepairedDamage'].replace('-', np.nan).astype(float)\n",
    "        \n",
    "        features.loc[features['power'] > 600, 'power'] = np.nan\n",
    "        features['power'] = np.log(features['power'])\n",
    "        features.loc[features['v_7'] > 0.5, 'v_7'] = np.nan\n",
    "        features.loc[features['v_11'] > 10, 'v_11'] = np.nan\n",
    "        features.loc[features['v_13'] > 7.5, 'v_13'] = np.nan\n",
    "        features.loc[features['v_14'] > 7.5, 'v_14'] = np.nan\n",
    "        \n",
    "        features.loc[features['v_10'] <= 0, 'v_10_1'] = features.loc[features['v_10'] <= 0, 'v_10']\n",
    "        features.loc[(features['v_10'] >= 0) & (features['v_10'] < 6), 'v_10_2'] = features.loc[(features['v_10'] >= 0) & (features['v_10'] < 6), 'v_10']\n",
    "        features.loc[features['v_10'] > 8, 'v_10_3'] = features.loc[features['v_10'] > 8, 'v_10']\n",
    "        features.loc[~features['model'].isin(self.general_model), 'model'] = np.nan\n",
    "        return features\n",
    "    \n",
    "    def get_model_features(self, features):\n",
    "        features = features.copy()\n",
    "        self.general_model = df.model.value_counts()[df.model.value_counts() < 2000].index\n",
    "        encoded_cate = self.cate_encoder.fit_transform(features[self.encoded_cates], features['logPrice'])\n",
    "        for cate in self.encoded_cates:\n",
    "            features[cate + 'Encode'] = encoded_cate[cate]\n",
    "        features = self._feature_engien(features)\n",
    "        return super().get_model_features(features)\n",
    "    \n",
    "    def transform_feature(self, features):\n",
    "        features = features.copy()\n",
    "        encoded_cate = self.cate_encoder.transform(features[self.encoded_cates])\n",
    "        for cate in self.encoded_cates:\n",
    "            features[cate + 'Encode'] = encoded_cate[cate]\n",
    "        features = self._feature_engien(features)\n",
    "        return super().get_model_features(features)\n"
   ]
  },
  {
   "cell_type": "code",
   "execution_count": 9,
   "metadata": {},
   "outputs": [
    {
     "name": "stdout",
     "output_type": "stream",
     "text": [
      "(150000, 29) (50000, 29)\n"
     ]
    }
   ],
   "source": [
    "feature_manager = MineFeatureManager(num_config={'missing_indicator': False}, categorical_config={'missing_indicator': False})\n",
    "X_dev = feature_manager.get_model_features(df)\n",
    "X_test = feature_manager.transform_feature(test)\n",
    "print(X_dev.shape, X_test.shape)"
   ]
  },
  {
   "cell_type": "code",
   "execution_count": 10,
   "metadata": {},
   "outputs": [
    {
     "data": {
      "text/html": [
       "<div>\n",
       "<style scoped>\n",
       "    .dataframe tbody tr th:only-of-type {\n",
       "        vertical-align: middle;\n",
       "    }\n",
       "\n",
       "    .dataframe tbody tr th {\n",
       "        vertical-align: top;\n",
       "    }\n",
       "\n",
       "    .dataframe thead th {\n",
       "        text-align: right;\n",
       "    }\n",
       "</style>\n",
       "<table border=\"1\" class=\"dataframe\">\n",
       "  <thead>\n",
       "    <tr style=\"text-align: right;\">\n",
       "      <th></th>\n",
       "      <th>power</th>\n",
       "      <th>kilometer</th>\n",
       "      <th>v_3</th>\n",
       "      <th>v_4</th>\n",
       "      <th>v_5</th>\n",
       "      <th>v_6</th>\n",
       "      <th>v_7</th>\n",
       "      <th>v_8</th>\n",
       "      <th>v_9</th>\n",
       "      <th>v_11</th>\n",
       "      <th>...</th>\n",
       "      <th>regionCodeEncode</th>\n",
       "      <th>gearbox</th>\n",
       "      <th>notRepairedDamage</th>\n",
       "      <th>seller</th>\n",
       "      <th>offerType</th>\n",
       "      <th>model</th>\n",
       "      <th>brand</th>\n",
       "      <th>bodyType</th>\n",
       "      <th>fuelType</th>\n",
       "      <th>createMon</th>\n",
       "    </tr>\n",
       "  </thead>\n",
       "  <tbody>\n",
       "    <tr>\n",
       "      <th>0</th>\n",
       "      <td>4.094345</td>\n",
       "      <td>12.5</td>\n",
       "      <td>2.159744</td>\n",
       "      <td>1.143786</td>\n",
       "      <td>0.235676</td>\n",
       "      <td>0.101988</td>\n",
       "      <td>0.129549</td>\n",
       "      <td>0.022816</td>\n",
       "      <td>0.097462</td>\n",
       "      <td>2.804097</td>\n",
       "      <td>...</td>\n",
       "      <td>8.482204</td>\n",
       "      <td>0.0</td>\n",
       "      <td>0.0</td>\n",
       "      <td>0</td>\n",
       "      <td>0</td>\n",
       "      <td>NaN</td>\n",
       "      <td>6</td>\n",
       "      <td>1.0</td>\n",
       "      <td>0.0</td>\n",
       "      <td>4</td>\n",
       "    </tr>\n",
       "    <tr>\n",
       "      <th>1</th>\n",
       "      <td>NaN</td>\n",
       "      <td>15.0</td>\n",
       "      <td>1.380657</td>\n",
       "      <td>-1.422165</td>\n",
       "      <td>0.264777</td>\n",
       "      <td>0.121004</td>\n",
       "      <td>0.135731</td>\n",
       "      <td>0.026597</td>\n",
       "      <td>0.020582</td>\n",
       "      <td>2.096338</td>\n",
       "      <td>...</td>\n",
       "      <td>8.683351</td>\n",
       "      <td>0.0</td>\n",
       "      <td>NaN</td>\n",
       "      <td>0</td>\n",
       "      <td>0</td>\n",
       "      <td>NaN</td>\n",
       "      <td>1</td>\n",
       "      <td>2.0</td>\n",
       "      <td>0.0</td>\n",
       "      <td>3</td>\n",
       "    </tr>\n",
       "    <tr>\n",
       "      <th>2</th>\n",
       "      <td>5.093750</td>\n",
       "      <td>12.5</td>\n",
       "      <td>-0.998467</td>\n",
       "      <td>-0.996911</td>\n",
       "      <td>0.251410</td>\n",
       "      <td>0.114912</td>\n",
       "      <td>0.165147</td>\n",
       "      <td>0.062173</td>\n",
       "      <td>0.027075</td>\n",
       "      <td>1.803559</td>\n",
       "      <td>...</td>\n",
       "      <td>8.077353</td>\n",
       "      <td>0.0</td>\n",
       "      <td>0.0</td>\n",
       "      <td>0</td>\n",
       "      <td>0</td>\n",
       "      <td>115.0</td>\n",
       "      <td>15</td>\n",
       "      <td>1.0</td>\n",
       "      <td>0.0</td>\n",
       "      <td>4</td>\n",
       "    </tr>\n",
       "  </tbody>\n",
       "</table>\n",
       "<p>3 rows × 29 columns</p>\n",
       "</div>"
      ],
      "text/plain": [
       "      power  kilometer       v_3       v_4       v_5       v_6       v_7  \\\n",
       "0  4.094345       12.5  2.159744  1.143786  0.235676  0.101988  0.129549   \n",
       "1       NaN       15.0  1.380657 -1.422165  0.264777  0.121004  0.135731   \n",
       "2  5.093750       12.5 -0.998467 -0.996911  0.251410  0.114912  0.165147   \n",
       "\n",
       "        v_8       v_9      v_11  ...  regionCodeEncode  gearbox  \\\n",
       "0  0.022816  0.097462  2.804097  ...          8.482204      0.0   \n",
       "1  0.026597  0.020582  2.096338  ...          8.683351      0.0   \n",
       "2  0.062173  0.027075  1.803559  ...          8.077353      0.0   \n",
       "\n",
       "   notRepairedDamage  seller  offerType  model  brand  bodyType  fuelType  \\\n",
       "0                0.0       0          0    NaN      6       1.0       0.0   \n",
       "1                NaN       0          0    NaN      1       2.0       0.0   \n",
       "2                0.0       0          0  115.0     15       1.0       0.0   \n",
       "\n",
       "   createMon  \n",
       "0          4  \n",
       "1          3  \n",
       "2          4  \n",
       "\n",
       "[3 rows x 29 columns]"
      ]
     },
     "execution_count": 10,
     "metadata": {},
     "output_type": "execute_result"
    }
   ],
   "source": [
    "X_dev.head(3)"
   ]
  },
  {
   "cell_type": "code",
   "execution_count": 13,
   "metadata": {},
   "outputs": [],
   "source": [
    "model = LGBModel()\n",
    "model.train(X_dev, df['logPrice'], verbose_eval=True)"
   ]
  },
  {
   "cell_type": "code",
   "execution_count": 14,
   "metadata": {},
   "outputs": [
    {
     "data": {
      "text/plain": [
       "array([7.02861755, 7.37158413, 8.79832039, ..., 8.43389111, 8.36175512,\n",
       "       8.37362611])"
      ]
     },
     "execution_count": 14,
     "metadata": {},
     "output_type": "execute_result"
    }
   ],
   "source": [
    "model.predict(X_test)"
   ]
  },
  {
   "cell_type": "code",
   "execution_count": null,
   "metadata": {},
   "outputs": [],
   "source": []
  }
 ],
 "metadata": {
  "kernelspec": {
   "display_name": "Python 3",
   "language": "python",
   "name": "python3"
  },
  "language_info": {
   "codemirror_mode": {
    "name": "ipython",
    "version": 3
   },
   "file_extension": ".py",
   "mimetype": "text/x-python",
   "name": "python",
   "nbconvert_exporter": "python",
   "pygments_lexer": "ipython3",
   "version": "3.6.7"
  }
 },
 "nbformat": 4,
 "nbformat_minor": 4
}
